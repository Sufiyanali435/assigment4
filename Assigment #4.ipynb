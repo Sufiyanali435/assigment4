{
 "cells": [
  {
   "cell_type": "markdown",
   "id": "4265b8df",
   "metadata": {},
   "source": [
    "# Assigment#4"
   ]
  },
  {
   "cell_type": "code",
   "execution_count": 16,
   "id": "b73255ba",
   "metadata": {},
   "outputs": [
    {
     "name": "stdout",
     "output_type": "stream",
     "text": [
      "=====================CALCULATOR=====================\n",
      "1 for addition\n",
      "2 for subtraction\n",
      "3 for multiplication\n",
      "4 for division\n",
      "5 for power\n",
      "ENTER ONE OF THE OPERATION FROM ABOVE: 5\n",
      "ENTER NUMBER: 3\n",
      "ENTER POWER: 2\n",
      "9\n"
     ]
    }
   ],
   "source": [
    "\"\"\"1. Make a calculator using Python with addition , subtraction ,\n",
    "multiplication ,division and power.\"\"\"\n",
    "\n",
    "print(\"=====================CALCULATOR=====================\")\n",
    "\n",
    "print(\"1 for addition\")\n",
    "print(\"2 for subtraction\")\n",
    "print(\"3 for multiplication\")\n",
    "print(\"4 for division\")\n",
    "print(\"5 for power\")\n",
    "\n",
    "a = int(input(\"ENTER ONE OF THE OPERATION FROM ABOVE: \"))\n",
    "\n",
    "if a == 1:\n",
    "    b = int(input(\"ENTER FIRST NUMBER: \"))\n",
    "    c = int(input(\"ENTER SECOND NUMBER: \"))\n",
    "    SUM = b + c \n",
    "    print(SUM)\n",
    "    \n",
    "elif a == 2:\n",
    "    d = int(input(\"ENTER FIRST NUMBER: \"))\n",
    "    e = int(input(\"ENTER SECOND NUMBER: \"))\n",
    "    SUM = d - e \n",
    "    print(SUM)\n",
    "    \n",
    "elif a == 3:\n",
    "    f = int(input(\"ENTER FIRST NUMBER: \"))\n",
    "    g = int(input(\"ENTER SECOND NUMBER: \"))\n",
    "    SUM = f * g \n",
    "    print(SUM)\n",
    "    \n",
    "elif a == 4:\n",
    "    h = int(input(\"ENTER FIRST NUMBER: \"))\n",
    "    i = int(input(\"ENTER SECOND NUMBER: \"))\n",
    "    SUM = h / i \n",
    "    print(SUM)\n",
    "    \n",
    "elif a == 5:\n",
    "    j = int(input(\"ENTER NUMBER: \"))\n",
    "    k = int(input(\"ENTER POWER: \"))\n",
    "    SUM = j ** k \n",
    "    print(SUM)\n",
    "    \n",
    "else:\n",
    "    print(\"OPRERATION NOT VALID! PLEASE ENTER AGAIN\")"
   ]
  },
  {
   "cell_type": "code",
   "execution_count": 32,
   "id": "73c51a0b",
   "metadata": {},
   "outputs": [
    {
     "name": "stdout",
     "output_type": "stream",
     "text": [
      "ENTER NUMBER YOU WANT TO FIND: 0\n",
      "NUMBER NOT FOUND\n"
     ]
    }
   ],
   "source": [
    "\"\"\"2.Write a program to check if there is any numeric value in list using for\n",
    "loop.\"\"\"\n",
    "\n",
    "lst = [\"apple\",5,\"mango\",4,\"cake\",7,2]\n",
    "lst\n",
    "\n",
    "a = int(input(\"ENTER NUMBER YOU WANT TO FIND: \"))\n",
    "flag = 0\n",
    "\n",
    "for i in lst:\n",
    "    if(i==a):\n",
    "        print(\"NUMBER FOUND\")\n",
    "        flag = 1\n",
    "        break\n",
    "        \n",
    "if (flag==0):\n",
    "    print(\"NUMBER NOT FOUND\")"
   ]
  },
  {
   "cell_type": "code",
   "execution_count": 36,
   "id": "f06d728e",
   "metadata": {},
   "outputs": [
    {
     "name": "stdout",
     "output_type": "stream",
     "text": [
      "Before addding key\n",
      "{'food': 'biryani', 'drink': 'juice', 'stater': 'fries'}\n",
      "---------------------------------------\n",
      "After adding key\n"
     ]
    },
    {
     "data": {
      "text/plain": [
       "{'food': 'biryani', 'drink': 'juice', 'stater': 'fries', 'desert': 'brownie'}"
      ]
     },
     "execution_count": 36,
     "metadata": {},
     "output_type": "execute_result"
    }
   ],
   "source": [
    "# 3. Write a Python script to add a key to a dictionary.\n",
    "\n",
    "a = {\"food\":\"biryani\" , \"drink\":\"juice\", \"stater\":\"fries\"}\n",
    "print(\"Before addding key\")\n",
    "print(a)\n",
    "print(\"---------------------------------------\")\n",
    "print(\"After adding key\")\n",
    "a[\"desert\"] = \"brownie\"\n",
    "a"
   ]
  },
  {
   "cell_type": "code",
   "execution_count": 45,
   "id": "b092ebb3",
   "metadata": {},
   "outputs": [
    {
     "name": "stdout",
     "output_type": "stream",
     "text": [
      "899\n"
     ]
    }
   ],
   "source": [
    "#4.Write a Python program to sum all the numeric items in a dictionary.\n",
    "\n",
    "a = {\"sufiyan\":11,\"ali\":55,\"muhammad\":88}\n",
    "for i in a.values():\n",
    "    sum = sum + i\n",
    "print(sum)"
   ]
  },
  {
   "cell_type": "code",
   "execution_count": 49,
   "id": "12c78dab",
   "metadata": {},
   "outputs": [
    {
     "name": "stdout",
     "output_type": "stream",
     "text": [
      "2 6 6 55 7 "
     ]
    }
   ],
   "source": [
    "#5.Write a program to identify duplicate values from list.\n",
    "\n",
    "lst=[0,1,2,2,3,4,5,6,6,6,7,88,55,55,7]\n",
    "lst2=[]\n",
    "for i in lst:\n",
    "    if i not in lst2:\n",
    "        lst2.append(i)\n",
    "    else:\n",
    "        print(i,end=' ')"
   ]
  },
  {
   "cell_type": "code",
   "execution_count": 56,
   "id": "7dd83a16",
   "metadata": {},
   "outputs": [
    {
     "name": "stdout",
     "output_type": "stream",
     "text": [
      "Key is present in the dictionary\n",
      "Key is not present in the dictionary\n"
     ]
    }
   ],
   "source": [
    "\"\"\"6.Write a Python script to check if a given key already exists in a\n",
    "dictionary\"\"\"\n",
    "\n",
    "d = {1: 11, 2: 22, 3: 33, 4: 44, 5: 55, 6: 66}\n",
    "def is_key_present(i):\n",
    "  if i in d:\n",
    "      print(\"Key is present in the dictionary\")\n",
    "  else:\n",
    "      print(\"Key is not present in the dictionary\")\n",
    "\n",
    "is_key_present(5)"
   ]
  },
  {
   "cell_type": "code",
   "execution_count": null,
   "id": "b0ef7698",
   "metadata": {},
   "outputs": [],
   "source": []
  }
 ],
 "metadata": {
  "kernelspec": {
   "display_name": "Python 3",
   "language": "python",
   "name": "python3"
  },
  "language_info": {
   "codemirror_mode": {
    "name": "ipython",
    "version": 3
   },
   "file_extension": ".py",
   "mimetype": "text/x-python",
   "name": "python",
   "nbconvert_exporter": "python",
   "pygments_lexer": "ipython3",
   "version": "3.8.8"
  }
 },
 "nbformat": 4,
 "nbformat_minor": 5
}
